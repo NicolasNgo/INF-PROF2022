{
  "nbformat": 4,
  "nbformat_minor": 0,
  "metadata": {
    "colab": {
      "provenance": [],
      "authorship_tag": "ABX9TyOBjohA7B7mhiTbM8rdovqS",
      "include_colab_link": true
    },
    "kernelspec": {
      "name": "python3",
      "display_name": "Python 3"
    },
    "language_info": {
      "name": "python"
    }
  },
  "cells": [
    {
      "cell_type": "markdown",
      "metadata": {
        "id": "view-in-github",
        "colab_type": "text"
      },
      "source": [
        "<a href=\"https://colab.research.google.com/github/NicolasNgo/INF-PROF2022/blob/main/Practical_Work_2.ipynb\" target=\"_parent\"><img src=\"https://colab.research.google.com/assets/colab-badge.svg\" alt=\"Open In Colab\"/></a>"
      ]
    },
    {
      "cell_type": "markdown",
      "source": [
        "# **Teaching Unit INF-PROF: Programming fundamentals for health data**\n",
        "\n",
        "## **Practical Work 2 - Introduction to pandas**\n",
        "Learning objectives: \n",
        "\n",
        "1. Creation of dataFrames\n",
        "2. Manipulation of a dataFrame\n",
        "3. Transformation of the values"
      ],
      "metadata": {
        "id": "FzfJI2KH9p0L"
      }
    },
    {
      "cell_type": "markdown",
      "source": [
        "## **1. Creation of a DataFrame**\n",
        "\n"
      ],
      "metadata": {
        "id": "czu1Kn4s-XS4"
      }
    },
    {
      "cell_type": "markdown",
      "source": [
        "To create a DataFrame, you have to first import the pandas library. \n",
        "Then use the constructor `DataFrame()`. In Python, if you want to use some function from an imported library, you have to use the appropriate prefix. By default, the prefix will be the name of the library.\n",
        " "
      ],
      "metadata": {
        "id": "vC4ViYjD_WJL"
      }
    },
    {
      "cell_type": "code",
      "source": [
        "import pandas \n",
        "\n",
        "df = pandas.DataFrame(data = [[2, 3], [5, 8], [9, 10]], index = ['row1', 'row2', 'row3'], columns = ['col1', 'col2'])\n",
        "print(df)"
      ],
      "metadata": {
        "colab": {
          "base_uri": "https://localhost:8080/"
        },
        "id": "5FGiX80M_ulx",
        "outputId": "e57a9ed9-2c6f-4385-f8de-2b3c90a542c0"
      },
      "execution_count": null,
      "outputs": [
        {
          "output_type": "stream",
          "name": "stdout",
          "text": [
            "      col1  col2\n",
            "row1     2     3\n",
            "row2     5     8\n",
            "row3     9    10\n"
          ]
        }
      ]
    },
    {
      "cell_type": "markdown",
      "source": [
        "But you can also use alias, when importing the library you specify an alias that will be use instead of the library's name. "
      ],
      "metadata": {
        "id": "S3921zf7BCir"
      }
    },
    {
      "cell_type": "code",
      "source": [
        "import pandas as pd\n",
        "\n",
        "df = pd.DataFrame(data = [[2, 3], [5,8], [9, 10]], index = ['row1', 'row2', 'row3'], columns = ['col1', 'col2'])\n",
        "print(df)"
      ],
      "metadata": {
        "colab": {
          "base_uri": "https://localhost:8080/"
        },
        "id": "shQ4__ifBSrR",
        "outputId": "c9f173b1-8f40-4e36-9cd1-bee39194be2f"
      },
      "execution_count": null,
      "outputs": [
        {
          "output_type": "stream",
          "name": "stdout",
          "text": [
            "      col1  col2\n",
            "row1     2     3\n",
            "row2     5     8\n",
            "row3     9    10\n"
          ]
        }
      ]
    },
    {
      "cell_type": "markdown",
      "source": [
        "If you don't want to use any prefix, you can also import the library with the '*' caracter. This way you won't have to use any prefix, BUT if you import two libraries with two functions which has the same name you could have some surprise so be carefull."
      ],
      "metadata": {
        "id": "Qzoe0W7CBhUo"
      }
    },
    {
      "cell_type": "code",
      "source": [
        "from pandas import *\n",
        "\n",
        "df = DataFrame(data = [[2, 3], [5, 8], [9, 10]], index = ['row1', 'row2', 'row3'], columns = ['col1', 'col2'])\n",
        "\n",
        "print(df)\n",
        "\n"
      ],
      "metadata": {
        "id": "acctFSySB4C-"
      },
      "execution_count": null,
      "outputs": []
    },
    {
      "cell_type": "markdown",
      "source": [
        "You can find the Python documentation for DataFrames [here](https://pandas.pydata.org/docs/reference/api/pandas.DataFrame.html)"
      ],
      "metadata": {
        "id": "-LRT3ivyCnA7"
      }
    },
    {
      "cell_type": "markdown",
      "source": [
        "## **Exercise 1 - Creation of a DataFrame from a dictionary**"
      ],
      "metadata": {
        "id": "u-KTazBJV70E"
      }
    },
    {
      "cell_type": "markdown",
      "source": [
        "**Build a DataFrame from the following dictionary.**\n",
        "\n",
        "\n",
        "1.   Build a DataFrame with the dictionary.\n",
        "2.   Display the 5 first rows of the DataFrame with 2 different ways.\n",
        "3.   Use the column `Names` as indexes of the DataFrames.\n",
        "4.   Display the row associated with Pierre.\n",
        "5.   Add the following observation to the DataFrame:  \n",
        "`{Names: Nicolas, Measures: 12.3, Center: '1'}`.\n",
        "6.   Give the overall mean measurement.\n",
        "7.   Give the mean measurement of each center.\n",
        "8.   Add the following observations from a third center to the DataFrame. \n",
        "`'Names': ['Marius', 'Robert', 'Karim'], 'Measures': [15.3, 3.1, 1.5]`\n",
        "\n",
        "\n",
        "```\n",
        "dict1 = {\n",
        "  'Names': ['Jean', 'Marie', 'Joseph', 'Marthe', 'Jacob', 'Marc', 'Paul', 'Pierre', 'Ismael', 'David', 'Mathieu'],\n",
        "  'Measures': [12.5, 18.0, 10.0, 13.2, 3.2, 5.7, 12.0, 6.0, 7.0, 14.5, 17.6],\n",
        "  'Center': ['1', '2', '2', '1', '2', '2', '1','2', '1', '2', '2']\n",
        "}\n",
        "```\n",
        "\n"
      ],
      "metadata": {
        "id": "mn6Gvi5nWCv7"
      }
    },
    {
      "cell_type": "markdown",
      "source": [
        "## **Exercise 2 - DataFrame manipulation**"
      ],
      "metadata": {
        "id": "95okiIdZvj_R"
      }
    },
    {
      "cell_type": "markdown",
      "source": [
        "**DataFrame.loc | Select column & Row by Name**\n",
        "\n",
        "DataFrame provides indexing label loc for selecting columns and rows by names\n",
        "\n",
        "`dataFrame.loc[ROWS RANGE, COLUMNS RANGE]`\n",
        "\n",
        "**DataFrame.iloc | Select Column indexes & Row index Positions**\n",
        "\n",
        "DataFrame provides indexing label iloc for accessing the column and rows by index positions i.e. \n",
        "`dataFrame.iloc[ROWS INDEX RANGE, COLUMNS INDEX RANGE]`\n",
        "it selects the columns and rows from DataFrame by index position specified in range. If ':' is given in rows or column index Range then all entries will be included for corresponding row or column."
      ],
      "metadata": {
        "id": "qHlnadXMwbF8"
      }
    },
    {
      "cell_type": "markdown",
      "source": [
        "**From the following DataFrame**\n",
        "\n",
        "\n",
        "1.   Display the first and last 3 rows.\n",
        "2.   Display the column age.\n",
        "3.   Display the number of rows.\n",
        "4.   Display the proportion of male and female patients.\n",
        "5.   Display the 'id' of the youngest and oldest patient along with the corresponding ages.\n",
        "6.   Display all the patients that are over 40 years old\n",
        "7.   Compute the BMI of each pateints and add a new column with this value in your DataFrame.\n",
        "8.   Create a new column with the categorized version of BMI. \n",
        "9.   Display the number of patients in each BMI category.\n",
        "10.  Give the mean age of each category.\n",
        "\n"
      ],
      "metadata": {
        "id": "MyGcU9Dxv3dQ"
      }
    },
    {
      "cell_type": "code",
      "source": [
        "import pandas as pd\n",
        "\n",
        "df = pd.DataFrame({\n",
        "  'id': ['085','086','087','088','089','090','091','092','093','094', '95'],\n",
        "  'age':[19,42,25,58,36,74,65,20,47,32,23],\n",
        "  'weight':['50', '46', '60', '103','75','68','82', '96','74', '113', '180'],\n",
        "  'height':[158, 174, 195, 169, 158, 201, 189, 163, 184, 173, 171],\n",
        "  'sex':['F','F','F','M','M','F','M','F','F','M','F']\n",
        "})"
      ],
      "metadata": {
        "id": "C34wwDjNyq0H"
      },
      "execution_count": null,
      "outputs": []
    },
    {
      "cell_type": "markdown",
      "source": [
        "**Note 1:** The Body Mass Index (BMI) can be calculated with the formula:\n",
        "$$BMI = \\frac{Weight}{Height^2}$$\n",
        "with the height in meters and the weight in kg.\n",
        "\n",
        "**Note 2:** We usually categorized the BMI with the following categories:\n",
        "\n",
        "| Category || BMI (kg/m^2)|\n",
        "|---------||:---------| \n",
        "| Underweight | Less than 16.0 |\n",
        "| Thinness | Between 16.0 and 18.4 |\n",
        "| Normal range | Between 18.5 and 24.9|\n",
        "| Overweight | Between 25.0 and 29.9|\n",
        "| Obese (class I) | Between 30.0 and 34.9 |\n",
        "| Obese (class II) | Between 35.0 and 39.9|\n",
        "| Obese (class III) | More than 40.0 |\n"
      ],
      "metadata": {
        "id": "dj9QVWjnynwX"
      }
    },
    {
      "cell_type": "markdown",
      "source": [
        "## **Exercise 3 - Date format**\n",
        "\n"
      ],
      "metadata": {
        "id": "dWKu19M_yy9q"
      }
    },
    {
      "cell_type": "markdown",
      "source": [
        "For this exercise, we will be using  [HortonGeneralHospital.csv](https://archive.ics.uci.edu/ml/machine-learning-databases/00549/HortonGeneralHospital.csv) a dataset provided on the *UCI Machine Learning Repository*. \n",
        "\n",
        "In this dataset, we have monthly numbers of transfers from Emergency Room into Critical Care classified in three exclusive categories at Horton General Hospital (Banbury, UK) from November 1999 to May 2011. The three categories are Cardio-respiratory arrest, Respiratory arrest and Hypoglycaemic arrest. You'll also find in this dataset the monthly total number of patients entering Emergency Room. \n",
        "\n",
        "**Description of variables:**\n",
        "* **Cardio**: Numbers of transfers from Emergency Room to Cardio-respiratory arrest. \n",
        "* **Resp:** Numbers of transfers from Emergency Room to Respiratory arrest.\n",
        "* **Hypo:** Numbers of transfers from Emergency room to Hypoglycaemic arrest.\n",
        "* **Adm:** Total number of patients entering Emergency Room.\n",
        "* **year:** Year of measurement.\n",
        "* **month:** Month of measurement.\n",
        "\n",
        "**From this data set we will do some date format manipulations.**\n",
        "\n",
        "1. **Import the dataset using the url.** (**Hint:** check the `read_csv` pandas' function).\n",
        "2. **Use the dates as an index**\n",
        "3. **Give the date with the most admission to Emergency Room.**\n",
        "4. **How many Hypoglycaemic arrest were recorded for 2004.**\n",
        "5. **From December 2003 to February 2004, use a time function to give you how many days passed**\n",
        "6. **Do a yearly summar of each column. Use the `groupby` function on the index and the agg method to apply a list of function on each column.**\n",
        "6. **Create a new column with a cummulative sum of the Cardio-respiratory arrest** \n",
        "7. **Create a new column with a rolling mean (with a 3 month windows) of the admission to Emergency Room and print the result.**\n",
        "\n",
        "\n"
      ],
      "metadata": {
        "id": "ZkIadDGvzHgy"
      }
    },
    {
      "cell_type": "markdown",
      "source": [
        "To import a file from a url, we use the pandas read_csv function with the url as an argument. You can use the `help()` function to display al the available arguments of this function."
      ],
      "metadata": {
        "id": "hlHKhjrE0w8S"
      }
    }
  ]
}