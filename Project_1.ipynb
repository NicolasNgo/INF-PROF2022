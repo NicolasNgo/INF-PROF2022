{
  "nbformat": 4,
  "nbformat_minor": 0,
  "metadata": {
    "colab": {
      "provenance": [],
      "collapsed_sections": [],
      "authorship_tag": "ABX9TyNpKqKnQ4oMLi6pBQx23fuQ",
      "include_colab_link": true
    },
    "kernelspec": {
      "name": "python3",
      "display_name": "Python 3"
    },
    "language_info": {
      "name": "python"
    }
  },
  "cells": [
    {
      "cell_type": "markdown",
      "metadata": {
        "id": "view-in-github",
        "colab_type": "text"
      },
      "source": [
        "<a href=\"https://colab.research.google.com/github/NicolasNgo/INF-PROF2022/blob/main/Project_1.ipynb\" target=\"_parent\"><img src=\"https://colab.research.google.com/assets/colab-badge.svg\" alt=\"Open In Colab\"/></a>"
      ]
    },
    {
      "cell_type": "markdown",
      "source": [
        "# **Project 1: Programming fundamentals for health data**\n",
        "\n",
        "Nicolas Ngo, Raquel Urena\n",
        "\n",
        "## **Introduction of the project**\n",
        "\n",
        "For this project, you will have to work on a provided dataset and give a description of the informations given in this dataset. You will have to manipulate it and use different kind of Python data type that were presented to you during this class. You will also have to use some Python functions or some function that you implemented yourself. \n",
        "\n",
        "For this project **you have to** use the pandas library but you are free to use other libraries in addition to pandas. If so please indicate clearly which one you are using.\n",
        "\n",
        "## **Context**\n",
        "\n",
        "For this project, you will work on a dataset about the cholera, and more specifically on the outcome of cholera cases all around the world between 1949 and 2016. The objective of the project will be to present the information that you could extract from this dataset. \n",
        "\n",
        "## **Cholera**\n",
        "Cholera is an acute diarrhoeal infrection caused by ingestion of food or water contaminated with the bacterium *Vibrio cholerae*. \n",
        "\n",
        "Cholera is an extremely virulent disease that can cause severe acute watery diarrohea. It affects both children and adults and can kill within hours if untreated. Most people infected with *V. cholerae* do not develop any symptoms, although the bacteria are present in their faeces for 1-10 days after infection and are shed back into the environment, potentially infecting other people. \n",
        "\n",
        "During the XIXth century, cholera spread across the world from its original reservoir in the Ganges delta. Six subsequent pandemics killed millions of people across all continents. The current (seventh) pandemic start in South Asia in 1961, reached Africa in 1971 and the Americas in 1991. Cholera is now endemic in many countries.\n",
        "\n",
        "[More info on cholera](https://www.who.int/news-room/fact-sheets/detail/cholera)\n",
        "\n",
        "## **Data**\n",
        "\n",
        "The dataset,  [`cholera.csv`](https://github.com/NicolasNgo/INF-PROF2022/blob/main/cholera.csv), is provided by the World Health Organisation. I've made some modifications of the dataset for this project. It gives, for each country how many cases and death from cholera were **reported** between 1949 and 2016. "
      ],
      "metadata": {
        "id": "O42_QjC5wVEi"
      }
    },
    {
      "cell_type": "markdown",
      "source": [
        "## **First part - Importing the dataset**"
      ],
      "metadata": {
        "id": "YJbyHrAHxmAH"
      }
    },
    {
      "cell_type": "markdown",
      "source": [
        "### **Question 1:** Import the pandas library, and upload the dataset into a DataFrame. Name the DataFrame `cholera`."
      ],
      "metadata": {
        "id": "eJU79jikw_Qw"
      }
    },
    {
      "cell_type": "markdown",
      "source": [
        "### **Question 2:** Give an overview of the DataFrame. Hence display the first lines of it, the last ones, the number of rows, the number of columns and the type of features.\n"
      ],
      "metadata": {
        "id": "a3uIUFWMx38g"
      }
    },
    {
      "cell_type": "markdown",
      "source": [
        "## **Second part - Pre-processing of the data**"
      ],
      "metadata": {
        "id": "W8zWBak3zmpI"
      }
    },
    {
      "cell_type": "markdown",
      "source": [
        "### **Question 3:** Change the name of the columns of `cholera`. Use `Cases` instead of `Number of reported cases of cholera`. And replace `Number of reported deaths from cholera` by `Deaths`"
      ],
      "metadata": {
        "id": "wPiTrN6d13kh"
      }
    },
    {
      "cell_type": "markdown",
      "source": [
        "### **Question 4:** Report all missing and uncorrect observations. Replace the missing values by the value `0`. \n",
        "\n",
        "**Note:** Only a `null` value is considered as a missing value. Some countries may not have a report for each year between 1949 and 2016. We are not asking you to add a row for this missing year with a `0` value. "
      ],
      "metadata": {
        "id": "SbXFOKdkz3sI"
      }
    },
    {
      "cell_type": "markdown",
      "source": [
        "### **Question 5:** Make sure that `Country` are strings, `Cases` and `Death` are int."
      ],
      "metadata": {
        "id": "3SDE9EqQ0DRg"
      }
    },
    {
      "cell_type": "markdown",
      "source": [
        "## **Third part - Feature engineering**"
      ],
      "metadata": {
        "id": "qNy3nPhA1O7B"
      }
    },
    {
      "cell_type": "markdown",
      "source": [
        "### **Question 6:** Compute for each row the Case Fatality Rate (in percentage). Add the new column to `cholera` with the column name being `CFR`.\n",
        "\n",
        "**Formula:** $$CFR = \\frac{\\text{Number of deaths from disease}}{\\text{Number of confirmed cases of disease}} \\times 100$$"
      ],
      "metadata": {
        "id": "5ut47QFE3v1K"
      }
    },
    {
      "cell_type": "markdown",
      "source": [
        "### **Question 7:** Let's consider that all the patients that did not died from cholera completly recovered from it in the same year. Compute the number of recovery cases and the recovery rate in percentage. Add this information to `cholera` with the column name being `Recovery` and `Recovery Rate`. \n",
        "\n",
        "**Formula:** Let's consider these formulas:\n",
        "$$\\text{Recovery} = \\text{Number of confirmed cases} - \\text{Number of deaths}$$\n",
        "and \n",
        "$$\\text{Recovery Rate} = \\frac{\\text{Recovery}}{\\text{Number of confirmed cases}} \\times 100$$"
      ],
      "metadata": {
        "id": "mUMzt73h5GRA"
      }
    },
    {
      "cell_type": "markdown",
      "source": [
        "### **Question 8:** Create a new DataFrame named `cholera_by_country` where you will put in row each country and the total number of cases and deaths reported for this country and also the overall CFR and Recovery Rate. "
      ],
      "metadata": {
        "id": "2Igs5wdn6yHG"
      }
    },
    {
      "cell_type": "markdown",
      "source": [
        "### **Question 9:** With the help of the following information, create a new column to `cholera` that report the region of the world that the country is in."
      ],
      "metadata": {
        "id": "1DfZuhdd97BT"
      }
    },
    {
      "cell_type": "markdown",
      "source": [
        "The **World Health Organisation** divides the world into six WHO regions, for the purposes of reporting, analysis and administration. These are the 6 WHO regions: \n",
        "African Region (**AFR**), Region of the Americas (**AMR**), South-East Asian Region (**SEAR**), European Region (**EUR**), Eastern Mediterranean Region (**EMR**) and Western Pacific Region (**WPR**).\n",
        "Use the following strings to classify each country of the DataFrame into a region and add the corresponding region name to the `cholera` DataFrame.\n",
        "\n",
        "```\n",
        "AFR = \"Algeria, Angola, Cabo Verde, Eswatini, Sao Tome and Principe, Benin, South Sudan, Western Sahara, Congo (Brazzaville), Congo (Kinshasa), Cote d'Ivoire, Botswana, Burkina Faso, Burundi, Cameroon, Cape Verde, Central African Republic, Chad, Comoros, Ivory Coast, Côte d'Ivoire, Democratic Republic of the Congo, Equatorial Guinea, Eritrea, Ethiopia, Gabon, Gambia, Ghana, Guinea, Guinea-Bissau, Kenya, Lesotho, Liberia, Madagascar, Malawi, Mali, Mauritania, Mauritius, Mozambique, Namibia, Niger, Nigeria, Republic of the Congo, Rwanda, São Tomé and Príncipe, Senegal, Seychelles, Sierra Leone, Somalia, South Africa, Swaziland, Togo, Uganda, Tanzania, United Republic of Tanzania, Zambia, Zimbabwe\"\n",
        "\n",
        "AMR = 'Antigua and Barbuda, Argentina, Bahamas, Barbados, Belize, Bolivia, Bolivia (Plurinational State of), Brazil, Canada, Chile, Colombia, Congo, Costa Rica, Cuba, Dominica, Dominican Republic, Ecuador, El Salvador, Grenada, Guatemala, Guyana, Haiti, Honduras, Jamaica, Mexico, Nicaragua, Panama, Paraguay, Peru, Saint Kitts and Nevis, Saint Lucia, Saint Vincent and the Grenadines, Suriname, Trinidad and Tobago, United States, US, United States of America, Uruguay, Venezuela, Venezuela (Bolivarian Republic of)'\n",
        "\n",
        "SEAR = 'Bangladesh, Bhutan, India, Indonesia, Maldives, Myanmar, Burma, Nepal, Sri Lanka, Thailand, Timor-Leste'\n",
        "\n",
        "EUR = 'Albania, Andorra, Greenland, Kosovo, Holy See, Liechtenstein, Armenia, Czechia, Austria, Azerbaijan, Belarus, Belgium, Bosnia and Herzegovina, Bulgaria, Croatia, Cyprus, Czech Republic, Denmark, Estonia, Finland, France, Georgia, Germany, Greece, Hungary, Iceland, Ireland, Israel, Italy, Kazakhstan, Kyrgyzstan, Latvia, Lithuania, Luxembourg, Malta, Monaco, Montenegro, Netherlands, North Macedonia, Republic of North Macedonia, Norway, Poland, Portugal, Moldova, Republic of Moldova, Romania, Russia, Russian Federation, San Marino, Serbia, Slovakia, Slovenia, Spain, Sweden, Switzerland, Tajikistan, Turkey, Turkmenistan, Ukraine, United Kingdom, United Kingdom of Great Britain and Northern Ireland, Uzbekistan, The former state union Serbia and Montenegro'\n",
        "\n",
        "EMR = 'Afghanistan, Bahrain, Djibouti, Egypt, Iran, Iran (Islamic Republic of), Iraq, Jordan, Kuwait, Lebanon, Libya, Morocco, Oman, Pakistan, Palestine, West Bank and Gaza, Qatar, Saudi Arabia, Somalia, Sudan, Syria, Syrian Arab Republic, Tunisia, United Arab Emirates, Yemen'\n",
        "\n",
        "WPR = \"Australia, Brunei, Brunei Darussalam, Republic of Korea, Cambodia, China, Cook Islands, Fiji, Japan, Kiribati, Laos, Lao People's Democratic Republic, Malaysia, Marshall Islands, Micronesia, Micronesia (Federated States of), Mongolia, Nauru, North Korea, New Zealand, Niue, Palau, Papua New Guinea, Philippines, South Korea, Democratic People's Republic of Korea, Samoa, Singapore, Solomon Islands, Taiwan, Taiwan*, Tonga, Tuvalu, Vanuatu, Vietnam, Viet Nam\"\n",
        "```"
      ],
      "metadata": {
        "id": "oflBjBeoGU54"
      }
    },
    {
      "cell_type": "markdown",
      "source": [
        "### **Question 10:** Create a new DataFrame named `cholera_by_region` where you will put in row each region of the world with the number of cases, number of deaths and also the overall CFR and Recovery Rate"
      ],
      "metadata": {
        "id": "HPrL4MNj--le"
      }
    },
    {
      "cell_type": "markdown",
      "source": [
        "## **Fourth part - Description**"
      ],
      "metadata": {
        "id": "ILZ8UVEq-0fF"
      }
    },
    {
      "cell_type": "markdown",
      "source": [
        "### **Question 11:** Report the following information:\n",
        "\n",
        "\n",
        "1.   The overall number of cases between 1949 and 2016\n",
        "2.   The overall number of deaths between 1949 and 2016\n",
        "3.   The year with the most cases\n",
        "\n"
      ],
      "metadata": {
        "id": "tIhqrNUf_V7u"
      }
    },
    {
      "cell_type": "markdown",
      "source": [
        "### **Question 12:** Display the name of the countries (at least 3) that has the highest number of cases. Do the same for the highest CFR."
      ],
      "metadata": {
        "id": "7lt_ue2HAalD"
      }
    }
  ]
}