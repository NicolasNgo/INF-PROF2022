{
  "nbformat": 4,
  "nbformat_minor": 0,
  "metadata": {
    "colab": {
      "provenance": [],
      "collapsed_sections": [
        "Vlf4bjx7lTX0",
        "9WxHge1ctgV5",
        "20QXIu-A461X",
        "PYsMtWBvBCwq",
        "YKGpnJm0B4Iy",
        "sJH3xW65Dz7q",
        "r2W8uZtoIQyz",
        "1ji-itfYtlgp",
        "IeFP4o-5Jc5f",
        "pCONOSnTNbjd",
        "T-mbsLLZT9I2",
        "autwA1G3uEmi",
        "biotaATAlMg5",
        "s4-N3L1kZ6OM",
        "wNTZz7tTk63D",
        "FU90AbVkIZ3o",
        "jfCZ7tg7J9Wz",
        "pp4ZmxcZLy7m",
        "Bcd81MzvMSrG",
        "PUjFBWLTMWO2",
        "mQux83bZswLx",
        "Frbka7AclFSJ",
        "ZetG3RqfuQo5",
        "XrDx4sHJ1AGs"
      ],
      "authorship_tag": "ABX9TyMptC/WmbMgGwAtZTaY0rZD",
      "include_colab_link": true
    },
    "kernelspec": {
      "name": "python3",
      "display_name": "Python 3"
    },
    "language_info": {
      "name": "python"
    }
  },
  "cells": [
    {
      "cell_type": "markdown",
      "metadata": {
        "id": "view-in-github",
        "colab_type": "text"
      },
      "source": [
        "<a href=\"https://colab.research.google.com/github/NicolasNgo/INF-PROF2022/blob/main/Practical_Work_1_%5BCORRECTION%5D.ipynb\" target=\"_parent\"><img src=\"https://colab.research.google.com/assets/colab-badge.svg\" alt=\"Open In Colab\"/></a>"
      ]
    },
    {
      "cell_type": "markdown",
      "source": [
        "# **Teaching Unit INF-PROF: Programming fundamentals for health data**\n",
        "Nicolas NGO, Raquel URENA\n",
        "\n",
        "## **Practical work 1 - Introduction to Python**\n",
        "### Learning objectives:\n",
        "\n",
        "  1. Manipulate different Python datatypes\n",
        "  2. Use some conditional statements \n",
        "  3. Programmation of basics functions\n",
        "  4. Use some looping structure\n",
        "\n",
        "\n"
      ],
      "metadata": {
        "id": "8pRQ1CiV3sLm"
      }
    },
    {
      "cell_type": "markdown",
      "source": [
        "# **1. Python datatypes**"
      ],
      "metadata": {
        "id": "Vlf4bjx7lTX0"
      }
    },
    {
      "cell_type": "markdown",
      "source": [
        "## **Strings**"
      ],
      "metadata": {
        "id": "9WxHge1ctgV5"
      }
    },
    {
      "cell_type": "markdown",
      "source": [
        "\n",
        "For this pratical session, we will see basic datatypes of Python and how to manipulate them. The first datatype that we will see is the Strings. \n",
        "\n",
        "#### **Strings creation**\n",
        "You can create a string by assigning to a variable any character between double quotes (\"\") or single quotes (''). \n",
        "\n",
        "```\n",
        "my_string = 'abc'\n",
        "my_string = \"abc\"\n",
        "my_string = \"I'm Nicolas Ngo\"\n",
        "```\n",
        "\n",
        "You can also create a string with the function `str()` on any character.\n",
        "\n",
        "```\n",
        "my_string = str(123)\n",
        "my_string\n",
        "```\n",
        "\n",
        "#### **Strings concatenation**\n",
        "You can merge two strings to create a single one with the '+' symbol\n",
        "\n",
        "```\n",
        "first_string = 'abc'\n",
        "second_string = 'def'\n",
        "third_string = first_string + second_string\n",
        "print(third_string)\n",
        "```\n",
        "\n",
        "#### **Strings slicing**\n",
        "You can access each element of a string with a slicing (my_string[ ]). \n",
        "\n",
        "```\n",
        "my_string = 'abc'\n",
        "my_string[0]\n",
        "```\n",
        "\n",
        "#### **Strings substitution**\n",
        "Use the print to display the value of a variable. \n",
        "\n",
        "```\n",
        "my_string = 'Marseille'\n",
        "print('The first letter of my string is %s' % my_string[0])\n",
        "my_string = 'Paris'\n",
        "print('The first letter of my string is %s' % my_string[0])\n",
        "```\n",
        "\n",
        "#### **Strings methods**\n",
        "Many methods are available for the str class. You can check them by using the dir function or search for them in the Python documentation [Python documentation](https://docs.python.org/3/library/stdtypes.html#textseq)"
      ],
      "metadata": {
        "id": "20QXIu-A461X"
      }
    },
    {
      "cell_type": "markdown",
      "source": [
        "### **Exercise 1.1 - Try to guess what these statements will do**"
      ],
      "metadata": {
        "id": "PYsMtWBvBCwq"
      }
    },
    {
      "cell_type": "code",
      "source": [
        "my_string = \"It's an introduction class\""
      ],
      "metadata": {
        "id": "zHe6gjYqA-qT"
      },
      "execution_count": null,
      "outputs": []
    },
    {
      "cell_type": "markdown",
      "source": [
        "1. ```print(my_string[4:6])```\n",
        "2. ```print(my_string[2:])```\n",
        "3. ```print(my_string[0:-5])```\n",
        "4. ```print(my_string[:])```"
      ],
      "metadata": {
        "id": "uf2Hs7HqBUyi"
      }
    },
    {
      "cell_type": "markdown",
      "source": [
        "### **Correction exercise 1.1**\n"
      ],
      "metadata": {
        "id": "YKGpnJm0B4Iy"
      }
    },
    {
      "cell_type": "markdown",
      "source": [
        "1. \" a\" \n",
        "2. \"'s an introduction class\"\n",
        "3. \"It's an introduction \"\n",
        "4. \"It's an introduction class\""
      ],
      "metadata": {
        "id": "CiHFhV9-UPxq"
      }
    },
    {
      "cell_type": "markdown",
      "source": [
        "\n",
        "---\n",
        "\n",
        "### **Exercise 1.2 - Text analysis**\n"
      ],
      "metadata": {
        "id": "sJH3xW65Dz7q"
      }
    },
    {
      "cell_type": "markdown",
      "source": [
        "\n",
        "Consider the following text:\n",
        "\n",
        "*Estimation of survivals distributions are commonly obtained using the Kaplan-Meier estimator and pohar-perme estimator in, respectively, the setting of overall and net survival (the survival that would be observed, in a hypothetical world, where the disease of interest would be the only possible cause of death).*\n",
        "\n",
        "1. Assign the text to a string variable. \n",
        "2. Use a method to count how many time the word 'of' is used in the text. \n",
        "3. 'pohar perme' is actually the name of a researcher, so the first letter should be a capital P. Use the capitalize and replace method to correct your string. \n"
      ],
      "metadata": {
        "id": "IXM_yeUQUZi7"
      }
    },
    {
      "cell_type": "markdown",
      "source": [
        "### **Correction exercise 1.2** "
      ],
      "metadata": {
        "id": "r2W8uZtoIQyz"
      }
    },
    {
      "cell_type": "code",
      "source": [
        "# First task\n",
        "my_string = 'Estimation of survivals distributions are commonly obtained using the Kaplan-Meier estimator and pohar-perme estimator in, respectively, the setting of overall and net survival (the survival that would be observed, in a hypothetical world, where the disease of interest would be the only possible cause of death).'\n",
        "\n",
        "# Second task\n",
        "print('The word of is used %s times' % my_string.count('of'))\n",
        "\n",
        "# Third task \n",
        "my_string = my_string.replace('pohar-perme', 'pohar-perme'.capitalize())\n",
        "print(my_string)"
      ],
      "metadata": {
        "colab": {
          "base_uri": "https://localhost:8080/"
        },
        "id": "H7_P32VhIVTr",
        "outputId": "b1f9d73d-c32a-4378-ae4f-730049e1b472"
      },
      "execution_count": null,
      "outputs": [
        {
          "output_type": "stream",
          "name": "stdout",
          "text": [
            "The word of is used 4 times\n",
            "Estimation of survivals distributions are commonly obtained using the Kaplan-Meier estimator and Pohar-perme estimator in, respectively, the setting of overall and net survival (the survival that would be observed, in a hypothetical world, where the disease of interest would be the only possible cause of death).\n"
          ]
        }
      ]
    },
    {
      "cell_type": "markdown",
      "source": [
        "## **Lists**"
      ],
      "metadata": {
        "id": "1ji-itfYtlgp"
      }
    },
    {
      "cell_type": "markdown",
      "source": [
        "\n",
        "\n",
        "A list is a collection of items in Python. It can be change after it's creation (assign a new value to an element of the list). \n",
        "\n",
        "#### **List creation**\n",
        "You can create a list by using brackets ([ ]) or by using the `list()` function. \n",
        "\n",
        "``` \n",
        "my_list = [1, 2, 3]\n",
        "my_list = list('123')\n",
        "```\n",
        "\n",
        "#### **List concatenation**\n",
        "You can concatenate lists with the '+' operator or by using specific method `extend()`.  \n",
        "\n",
        "```\n",
        "first_list = list('abc')\n",
        "second_list = list('567')\n",
        "my_list.extend(second_list)\n",
        "first_list\n",
        "['a', 'b', 'c', '5', '6', '7']\n",
        "```\n",
        "\n",
        "To add a single element at the end of the list you can use the `append()` method. \n",
        "\n",
        "To add a single element at any specific position in the list you can use the `insert()` method.\n",
        "\n",
        "#### **Accessing and changing list element**\n",
        "Following the same logic of the strings slicing you can access element of the list with the '[ ]'. But with the list you can also change the value at the specific index. \n",
        "\n",
        "```\n",
        "my_list = [1, 2, 3, 4]\n",
        "my_list[0] = 'A'\n",
        "print(my_list)\n",
        "['A', 2, 3, 4]\n",
        "```\n",
        "\n",
        "#### **Removing values**\n",
        "You can use the `remove()` method to remove a specific element of the list. \n",
        "\n",
        "\n",
        "#### **List documentation**\n",
        "You can see [here](https://docs.python.org/3/tutorial/datastructures.html) the Python documentation for the list object. "
      ],
      "metadata": {
        "id": "IeFP4o-5Jc5f"
      }
    },
    {
      "cell_type": "markdown",
      "source": [
        "### **Exercise 1.3 - Sort lists**\n",
        "\n",
        "\n"
      ],
      "metadata": {
        "id": "pCONOSnTNbjd"
      }
    },
    {
      "cell_type": "markdown",
      "source": [
        "With the following list execute the these tasks:\n",
        "1. Create two lists, one for the names and one for the values.\n",
        "2. Sort all values by decreasing order and display the 3 smallest values.\n",
        "3. Display the mean value of the list of values.\n",
        "4. Sort all names by alphabetical order. Display the first 3 names.\n",
        "5. Replace the second name of the sorted list by 'Djibril'.\n",
        "\n",
        "```\n",
        "my_list = ['Jean', 5, 'Matthieu', 'Ismael', 3, 7, 1, 'Jose', 15, 9, 'Zacchary', 2,'Gabriel', 'Aristide']\n",
        "\n",
        "```"
      ],
      "metadata": {
        "id": "-w0aJ5XjUfpr"
      }
    },
    {
      "cell_type": "markdown",
      "source": [
        "### **Correction exercise 1.3**"
      ],
      "metadata": {
        "id": "T-mbsLLZT9I2"
      }
    },
    {
      "cell_type": "code",
      "source": [
        "my_list = ['Jean', 5, 'Matthieu', 'Ismael', 3, 7, 1, 'Jose', 15, 9, 'Zacchary', 2,'Gabriel', 'Aristide']\n",
        "\n",
        "# First task\n",
        "list_of_strings = ['Jean', 'Matthieu', 'Ismael', 'Jose', 'Zacchary', 'Boris', 'Aristide']\n",
        "list_of_values = [5, 3, 7, 1, 15, 9, 2]"
      ],
      "metadata": {
        "id": "B7nLzqZLRdz-"
      },
      "execution_count": null,
      "outputs": []
    },
    {
      "cell_type": "code",
      "source": [
        "# Second task \n",
        "list_of_values.sort(reverse = True)\n",
        "print('The 3 smallest values are ', list_of_values[-3:])"
      ],
      "metadata": {
        "colab": {
          "base_uri": "https://localhost:8080/"
        },
        "id": "QucRYuyRR589",
        "outputId": "f247641b-18bd-4ab5-9821-5bf51e5755f6"
      },
      "execution_count": null,
      "outputs": [
        {
          "output_type": "stream",
          "name": "stdout",
          "text": [
            "The 3 smallest values are  [3, 2, 1]\n"
          ]
        }
      ]
    },
    {
      "cell_type": "code",
      "source": [
        "# Third task\n",
        "mean_value = sum(list_of_values)/len(list_of_values)\n",
        "print('The mean value is %d' % mean_value)"
      ],
      "metadata": {
        "colab": {
          "base_uri": "https://localhost:8080/"
        },
        "id": "yLNbDZDdVDSn",
        "outputId": "61b9af65-e1ac-4f28-b29b-84c49b4145e0"
      },
      "execution_count": null,
      "outputs": [
        {
          "output_type": "stream",
          "name": "stdout",
          "text": [
            "The mean value is 6\n"
          ]
        }
      ]
    },
    {
      "cell_type": "code",
      "source": [
        "# Fourth task\n",
        "list_of_strings.sort(reverse = False)\n",
        "print('The first 3 names are', list_of_strings[:3])"
      ],
      "metadata": {
        "colab": {
          "base_uri": "https://localhost:8080/"
        },
        "id": "7rNO_j7nR2nl",
        "outputId": "65aeeeed-6375-4bf2-f0e7-75d9c70b1112"
      },
      "execution_count": null,
      "outputs": [
        {
          "output_type": "stream",
          "name": "stdout",
          "text": [
            "The first 3 names are ['Aristide', 'Boris', 'Ismael']\n"
          ]
        }
      ]
    },
    {
      "cell_type": "code",
      "source": [
        "# Fith task\n",
        "list_of_strings[1] = 'Djibril'\n",
        "list_of_strings"
      ],
      "metadata": {
        "colab": {
          "base_uri": "https://localhost:8080/"
        },
        "id": "CekKqTyQTWhP",
        "outputId": "cf76d63f-c461-4f2a-cd57-09940185bacc"
      },
      "execution_count": null,
      "outputs": [
        {
          "output_type": "execute_result",
          "data": {
            "text/plain": [
              "['Aristide', 'Djibril', 'Ismael', 'Jean', 'Jose', 'Matthieu', 'Zacchary']"
            ]
          },
          "metadata": {},
          "execution_count": 104
        }
      ]
    },
    {
      "cell_type": "code",
      "source": [
        "help(sum())"
      ],
      "metadata": {
        "id": "W_hikyxmrz3i",
        "outputId": "f89de5df-1d6c-4eb6-9015-1df81b37a37b",
        "colab": {
          "base_uri": "https://localhost:8080/"
        }
      },
      "execution_count": null,
      "outputs": [
        {
          "output_type": "stream",
          "name": "stdout",
          "text": [
            "Help on built-in function sum in module builtins:\n",
            "\n",
            "sum(iterable, start=0, /)\n",
            "    Return the sum of a 'start' value (default: 0) plus an iterable of numbers\n",
            "    \n",
            "    When the iterable is empty, return the start value.\n",
            "    This function is intended specifically for use with numeric values and may\n",
            "    reject non-numeric types.\n",
            "\n"
          ]
        }
      ]
    },
    {
      "cell_type": "markdown",
      "source": [
        "## **Dictionary**"
      ],
      "metadata": {
        "id": "autwA1G3uEmi"
      }
    },
    {
      "cell_type": "markdown",
      "source": [
        "\n",
        "\n",
        "Dictionary is a Python collection type object. In the dictionaries the values are being indexed by specific unique values which are called *keys*. \n",
        "\n",
        "#### **Creation of dictionary**\n",
        "There are many ways to create a dictionary. The first one is to use the curly bracket ('{') with separated by commas the couples `key:value`.\n",
        "\n",
        "```\n",
        "my_dict = {'Name': ['Paul', 'Marie', 'Jean'], \n",
        "            'Age': [26, 35],\n",
        "            'City': ['Marseille', 'Paris', 'Lyon', 'Lamentin']}\n",
        "```\n",
        "\n",
        "Or you can use the constructor `dict()` \n",
        "\n",
        "```\n",
        "my_dict = dict({'5': ['cinq', 'V', 'five']})\n",
        "``` \n",
        "\n",
        "#### **Accessing a value**\n",
        "In a dictionary you can acces a value by using the specific key that is associated to this value (just like an index in the list).\n",
        "\n",
        "```\n",
        "my_dict = {'Name': 'Nora', 'Age':25}\n",
        "my_dict['Name']\n",
        "'Nora'\n",
        "```\n",
        "\n",
        "#### **Adding a new key:value**\n",
        "You can add a key:value pair to your dictionary \n",
        "\n",
        "```\n",
        "my_dict['City'] = 'Marseille'\n",
        "my_dict\n",
        "```\n",
        "\n",
        "#### **Modify key:value pair**\n",
        "You can modify an already existing value associated to a key.\n",
        "\n",
        "```\n",
        "my_dict['Age'] = 26\n",
        "my_dict\n",
        "```\n",
        "\n",
        "#### **Delete a key:value pair**\n",
        "You can delete a key:value pair with the keyword `del`\n",
        "\n",
        "```\n",
        "del my_dict['City']\n",
        "my_dict\n",
        "```\n",
        "\n",
        "#### **Some methods**\n",
        "To access all the keys of a dict `my_dict.keys()`. The method `get()` returns the value of a specified key. "
      ],
      "metadata": {
        "id": "nwIB49XZYYbX"
      }
    },
    {
      "cell_type": "markdown",
      "source": [
        "### **Exercise 4 - Manipulation of a dictionary**"
      ],
      "metadata": {
        "id": "biotaATAlMg5"
      }
    },
    {
      "cell_type": "markdown",
      "source": [
        "We want to store into a dictionary the names of the patients that are assign to a treatment and control group. \n",
        "\n",
        "Control: Jean, Marie, Paul, Joseph, Iyeka\n",
        "\n",
        "Treatment: Mike, Alain, Adiba\n",
        "\n",
        "1. Create a dictionary with two keys (one for each group) and store the names of the patients as values of the corresponding keys. \n",
        "2. Which group has more patients (use Python functions to answer)\n",
        "3. A new patient has been assign to the treatment group. Add her name to the list (Dorine)\n",
        "4. We want to add a new treatment group, change the 'Treatment' key name to 'Treatment A' and add the new key 'Treatment B' with the names:\n",
        "  Aaren, Loris, Celio, Aymerik, Montout\n",
        "5. Give the total number of patients. \n",
        "\n",
        "In the last task, you can use a for loops.\n",
        "\n",
        "\n",
        "\n",
        "\n"
      ],
      "metadata": {
        "id": "2g9yBVS_XlQj"
      }
    },
    {
      "cell_type": "markdown",
      "source": [
        "### **Correction exercise 4**"
      ],
      "metadata": {
        "id": "s4-N3L1kZ6OM"
      }
    },
    {
      "cell_type": "code",
      "source": [
        "# First task\n",
        "\n",
        "my_dict = dict({\n",
        "  'Control':['Jean', 'Marie', 'Paul', 'Joseph', 'Iyeka'],\n",
        "  'Treatment':['Mike', 'Alain', 'Adiba']  \n",
        "})\n",
        "\n",
        "my_dict"
      ],
      "metadata": {
        "colab": {
          "base_uri": "https://localhost:8080/"
        },
        "id": "wMyhFiYdZ5Ir",
        "outputId": "d5a81689-91d0-4545-f1a7-bbebf9078aab"
      },
      "execution_count": null,
      "outputs": [
        {
          "output_type": "execute_result",
          "data": {
            "text/plain": [
              "{'Control': ['Jean', 'Marie', 'Paul', 'Joseph', 'Iyeka'],\n",
              " 'Treatment': ['Mike', 'Alain', 'Adiba']}"
            ]
          },
          "metadata": {},
          "execution_count": 15
        }
      ]
    },
    {
      "cell_type": "code",
      "source": [
        "# Second task\n",
        "\n",
        "# If we use the max function it will return the maximum value of the keys hence Treatment, because it is the longest string\n",
        "print('Using max with default key argument: %s' % max(my_dict))\n",
        "\n",
        "# We need to use a lambda function\n",
        "res = max(my_dict, key = lambda x: len(my_dict.get(x)))\n",
        "print('Using max function with the appropriate key argument: %s' % res)"
      ],
      "metadata": {
        "colab": {
          "base_uri": "https://localhost:8080/"
        },
        "id": "jKi6WYG2a6YT",
        "outputId": "a4bc79fc-e867-4f3b-9aea-beb2a82df2bd"
      },
      "execution_count": null,
      "outputs": [
        {
          "output_type": "stream",
          "name": "stdout",
          "text": [
            "Using max with default key argument: Treatment\n",
            "Using max function with the appropriate key argument: Control\n"
          ]
        }
      ]
    },
    {
      "cell_type": "code",
      "source": [
        "# Third task\n",
        "\n",
        "# The get method returns a list in this case so we can use list method to add this new value to the dictionary\n",
        "print('Type of the output: %s' % type(my_dict.get('Treatment')))\n",
        "print('Output %s' % my_dict.get('Treatment'))"
      ],
      "metadata": {
        "colab": {
          "base_uri": "https://localhost:8080/"
        },
        "id": "Y6gDlkw1d_bU",
        "outputId": "bab1059e-d260-4309-b58d-f76168ec29c2"
      },
      "execution_count": null,
      "outputs": [
        {
          "output_type": "stream",
          "name": "stdout",
          "text": [
            "Type of the output: <class 'list'>\n",
            "Output ['Mike', 'Alain', 'Adiba']\n"
          ]
        }
      ]
    },
    {
      "cell_type": "code",
      "source": [
        "# Third task\n",
        "my_dict.get('Treatment').append('Dorine')\n",
        "my_dict"
      ],
      "metadata": {
        "colab": {
          "base_uri": "https://localhost:8080/"
        },
        "id": "BjAOcqsHdWpk",
        "outputId": "877e90ca-5a1c-486f-8812-0019053f54d1"
      },
      "execution_count": null,
      "outputs": [
        {
          "output_type": "execute_result",
          "data": {
            "text/plain": [
              "{'Control': ['Jean', 'Marie', 'Paul', 'Joseph', 'Iyeka'],\n",
              " 'Treatment': ['Mike', 'Alain', 'Adiba', 'Dorine']}"
            ]
          },
          "metadata": {},
          "execution_count": 18
        }
      ]
    },
    {
      "cell_type": "code",
      "source": [
        "# Third task - with the update method\n",
        "\n",
        "my_dict = dict({\n",
        "  'Control':['Jean', 'Marie', 'Paul', 'Joseph', 'Iyeka'],\n",
        "  'Treatment':['Mike', 'Alain', 'Adiba']  \n",
        "})\n",
        "\n",
        "print(my_dict)\n",
        "value_treatment = my_dict.get('Treatment')\n",
        "value_treatment.append('Dorine')\n",
        "\n",
        "my_dict.update({'Treatment':value_treatment}) \n",
        "print(my_dict)"
      ],
      "metadata": {
        "colab": {
          "base_uri": "https://localhost:8080/"
        },
        "id": "mI1VBYQwelDE",
        "outputId": "dcff3de0-f47f-4c02-ba44-72612a21d9bf"
      },
      "execution_count": null,
      "outputs": [
        {
          "output_type": "stream",
          "name": "stdout",
          "text": [
            "{'Control': ['Jean', 'Marie', 'Paul', 'Joseph', 'Iyeka'], 'Treatment': ['Mike', 'Alain', 'Adiba']}\n",
            "{'Control': ['Jean', 'Marie', 'Paul', 'Joseph', 'Iyeka'], 'Treatment': ['Mike', 'Alain', 'Adiba', 'Dorine']}\n"
          ]
        }
      ]
    },
    {
      "cell_type": "code",
      "source": [
        "# Fourth task\n",
        "# Rename a key\n",
        "\n",
        "# The pop method returns the values of the key in argument and delete both key and values\n",
        "# my_dict.pop('Treatment')\n",
        "# ['Mike', 'Alain', 'Adiba', 'Dorine']\n",
        "\n",
        "my_dict['Treatment A'] = my_dict.pop('Treatment')\n",
        "my_dict"
      ],
      "metadata": {
        "colab": {
          "base_uri": "https://localhost:8080/"
        },
        "id": "QkOKv1t4fqpV",
        "outputId": "6515694f-a5b4-4a16-a3a1-2133f8f95bb9"
      },
      "execution_count": null,
      "outputs": [
        {
          "output_type": "execute_result",
          "data": {
            "text/plain": [
              "{'Control': ['Jean', 'Marie', 'Paul', 'Joseph', 'Iyeka'],\n",
              " 'Treatment A': ['Mike', 'Alain', 'Adiba', 'Dorine']}"
            ]
          },
          "metadata": {},
          "execution_count": 20
        }
      ]
    },
    {
      "cell_type": "code",
      "source": [
        "value = 2.86489215121\n",
        "print('Value = %f' % value)\n",
        "print('Value = %.f' % value)\n",
        "print('Value = %.1f' % value)\n",
        "print('Value = %.4f' % value)\n",
        "print('Value = %d' % value) # Here the value is converted into an int automatically\n",
        "print('Value = %s' % value) # Here the value is converted into a string automatically"
      ],
      "metadata": {
        "colab": {
          "base_uri": "https://localhost:8080/"
        },
        "id": "N4OrwYyM0S5W",
        "outputId": "4988c6e8-e86a-4f8d-ae79-428a8ac77529"
      },
      "execution_count": null,
      "outputs": [
        {
          "output_type": "stream",
          "name": "stdout",
          "text": [
            "Value = 2.864892\n",
            "Value = 3\n",
            "Value = 2.9\n",
            "Value = 2.8649\n",
            "Value = 2\n",
            "Value = 2.86489215121\n"
          ]
        }
      ]
    },
    {
      "cell_type": "code",
      "source": [
        ")"
      ],
      "metadata": {
        "colab": {
          "base_uri": "https://localhost:8080/"
        },
        "id": "PsYLpjDD3yfD",
        "outputId": "e531a5b3-c72a-419f-c567-28e9c5cf822f"
      },
      "execution_count": null,
      "outputs": [
        {
          "output_type": "stream",
          "name": "stdout",
          "text": [
            "Value = 2.86489215121 and the rounded value = 2\n"
          ]
        }
      ]
    },
    {
      "cell_type": "code",
      "source": [
        "# Add the new key \n",
        "my_dict.update({'Treatment B':['Aaren', 'Loris', 'Celio', 'Aymerik', 'Montout']})\n",
        "my_dict"
      ],
      "metadata": {
        "colab": {
          "base_uri": "https://localhost:8080/"
        },
        "id": "EgzhOv48f45l",
        "outputId": "30ebef77-e6ec-4b94-98b0-847fd3896419"
      },
      "execution_count": null,
      "outputs": [
        {
          "output_type": "execute_result",
          "data": {
            "text/plain": [
              "{'Control': ['Jean', 'Marie', 'Paul', 'Joseph', 'Iyeka'],\n",
              " 'Treatment A': ['Mike', 'Alain', 'Adiba', 'Dorine'],\n",
              " 'Treatment B': ['Aaren', 'Loris', 'Celio', 'Aymerik', 'Montout']}"
            ]
          },
          "metadata": {},
          "execution_count": 21
        }
      ]
    },
    {
      "cell_type": "code",
      "source": [
        "# Fith task\n",
        "\n",
        "# Give the number of keys\n",
        "print('Number of keys: %d' % len(my_dict))\n",
        "\n",
        "# Values of the dictionary\n",
        "print('my_dict.values() %s' %my_dict.values())"
      ],
      "metadata": {
        "colab": {
          "base_uri": "https://localhost:8080/"
        },
        "id": "kXbR9gGRgq7u",
        "outputId": "e327fa42-8a55-478d-a889-f5297e8011f5"
      },
      "execution_count": null,
      "outputs": [
        {
          "output_type": "stream",
          "name": "stdout",
          "text": [
            "Number of keys: 3\n",
            "my_dict.values() dict_values([['Jean', 'Marie', 'Paul', 'Joseph', 'Iyeka'], ['Mike', 'Alain', 'Adiba', 'Dorine'], ['Aaren', 'Loris', 'Celio', 'Aymerik', 'Montout']])\n"
          ]
        }
      ]
    },
    {
      "cell_type": "code",
      "source": [
        "# Give the number of keys\n",
        "print(f'Number of keys: {len(my_dict)}')\n",
        "\n",
        "# Value of the dictionary\n",
        "print(f'my_dict.values {my_dict.values()}')"
      ],
      "metadata": {
        "colab": {
          "base_uri": "https://localhost:8080/"
        },
        "id": "_n90EsV44kRN",
        "outputId": "4704c915-40c4-4ee8-eacb-9683bc9c7493"
      },
      "execution_count": null,
      "outputs": [
        {
          "output_type": "stream",
          "name": "stdout",
          "text": [
            "Number of keys: 3\n",
            "my_dict.values dict_values([['Jean', 'Marie', 'Paul', 'Joseph', 'Iyeka'], ['Mike', 'Alain', 'Adiba', 'Dorine'], ['Aaren', 'Loris', 'Celio', 'Aymerik', 'Montout']])\n"
          ]
        }
      ]
    },
    {
      "cell_type": "code",
      "source": [
        "for x in my_dict.values():\n",
        "  print('%s is of length: %s' % (x, len(x)))\n"
      ],
      "metadata": {
        "colab": {
          "base_uri": "https://localhost:8080/"
        },
        "id": "mwCtbm5FjXqM",
        "outputId": "d1008cb7-7199-47dc-d5ad-ff84be4cb32e"
      },
      "execution_count": null,
      "outputs": [
        {
          "output_type": "stream",
          "name": "stdout",
          "text": [
            "['Jean', 'Marie', 'Paul', 'Joseph', 'Iyeka'] is of length: 5\n",
            "['Mike', 'Alain', 'Adiba', 'Dorine'] is of length: 4\n",
            "['Aaren', 'Loris', 'Celio', 'Aymerik', 'Montout'] is of length: 5\n"
          ]
        }
      ]
    },
    {
      "cell_type": "code",
      "source": [
        "number_of_patients = 0\n",
        "for group in my_dict.values():\n",
        "  number_of_patients = number_of_patients + len(group)\n",
        "  print(number_of_patients)\n",
        "\n",
        "print('In total %d patients' % number_of_patients)"
      ],
      "metadata": {
        "colab": {
          "base_uri": "https://localhost:8080/"
        },
        "id": "_Sk6Tl95jqI0",
        "outputId": "abfb6137-182d-4972-9984-c6fd56aa9b63"
      },
      "execution_count": null,
      "outputs": [
        {
          "output_type": "stream",
          "name": "stdout",
          "text": [
            "5\n",
            "9\n",
            "14\n",
            "In total 14 patients\n"
          ]
        }
      ]
    },
    {
      "cell_type": "code",
      "source": [
        "# Another way by using keys\n",
        "\n",
        "for x in my_dict:\n",
        "  print(x)"
      ],
      "metadata": {
        "colab": {
          "base_uri": "https://localhost:8080/"
        },
        "id": "cTm3xsVmkKbf",
        "outputId": "3d013764-cb9b-4054-b29e-64721c9f436b"
      },
      "execution_count": null,
      "outputs": [
        {
          "output_type": "stream",
          "name": "stdout",
          "text": [
            "Control\n",
            "Treatment A\n",
            "Treatment B\n"
          ]
        }
      ]
    },
    {
      "cell_type": "code",
      "source": [
        "for x in my_dict:\n",
        "  print(len(my_dict[x]))"
      ],
      "metadata": {
        "colab": {
          "base_uri": "https://localhost:8080/"
        },
        "id": "zT961HwqkPsY",
        "outputId": "e2cc585e-b7ec-4bdf-c36f-28fde87df9e4"
      },
      "execution_count": null,
      "outputs": [
        {
          "output_type": "stream",
          "name": "stdout",
          "text": [
            "5\n",
            "4\n",
            "5\n"
          ]
        }
      ]
    },
    {
      "cell_type": "code",
      "source": [
        "number_of_patients = 0\n",
        "\n",
        "for x in my_dict:\n",
        "  number_of_patients += len(my_dict[x])\n",
        "\n",
        "print('In total %d patients' % number_of_patients)"
      ],
      "metadata": {
        "colab": {
          "base_uri": "https://localhost:8080/"
        },
        "id": "roZqVzZmkVyw",
        "outputId": "35099ff8-8d80-43ce-f249-21fe1f34e950"
      },
      "execution_count": null,
      "outputs": [
        {
          "output_type": "stream",
          "name": "stdout",
          "text": [
            "In total 14 patients\n"
          ]
        }
      ]
    },
    {
      "cell_type": "markdown",
      "source": [
        "# **2. Conditional statement and loops**\n",
        "\n",
        "\n"
      ],
      "metadata": {
        "id": "wNTZz7tTk63D"
      }
    },
    {
      "cell_type": "markdown",
      "source": [
        "### **Exercise 2.1 - Categorisation**\n",
        "\n"
      ],
      "metadata": {
        "id": "FU90AbVkIZ3o"
      }
    },
    {
      "cell_type": "markdown",
      "source": [
        "You received a list of age values, you want to discretize them into 15 years categories, write a program that will do so. \n",
        "The result should be a list of string in the same order as the age list but with the categorie as values. Let's assume that the first category will start at 0 and goes to 15 (not included) and will be named `'[0;15)'`. The second will be `'[15;30)'` until the last one `[75;90]`.\n",
        "```\n",
        "ages = [8, 15, 12, 23, 69, 87, 45, 52, 36, 48, 20, 18, 19, 35, 22, 74, 21, 63, 88, 14, 25, 42, 27, 58]\n",
        "```"
      ],
      "metadata": {
        "id": "WnEkjzOYJ8sT"
      }
    },
    {
      "cell_type": "markdown",
      "source": [
        "### **Correction exercise 2.1**"
      ],
      "metadata": {
        "id": "jfCZ7tg7J9Wz"
      }
    },
    {
      "cell_type": "code",
      "source": [
        "# First thing is to assign the list to a list object\n",
        "ages = [8, 15, 12, 23, 69, 87, 45, 52, 36, 48, 20, 18, 19, 35, 22, 74, 21, 63, 88, 14, 25, 42, 27, 58]\n",
        "\n",
        "# Then we initialize an empty list that will store the categorized value of the ages\n",
        "ages_cat = list()\n",
        "\n",
        "# We iterate over the values of the list ages and go down though different if statements\n",
        "for age in ages:\n",
        "  if age < 15:\n",
        "    ages_cat.append('[0;15)')\n",
        "  elif age >= 15 and age < 30:\n",
        "    ages_cat.append('[15;30)')\n",
        "  elif age >= 30 and age < 45:\n",
        "    ages_cat.append('[30;45)')\n",
        "  elif age >= 45 and age < 60:\n",
        "    ages_cat.append('[45;60)')\n",
        "  elif age >= 60 and age < 75:\n",
        "    ages_cat.append('[60;75)')\n",
        "  elif age >= 75 and age <= 90:\n",
        "    ages_cat.append('[75;90]')\n",
        "  else:\n",
        "    print('Age was in no category')\n",
        "\n",
        "print('Continuous ages %s'% ages)\n",
        "print('Discretized ages %s ' % ages_cat)"
      ],
      "metadata": {
        "colab": {
          "base_uri": "https://localhost:8080/"
        },
        "id": "LajhqJ_JKXXt",
        "outputId": "19f0d835-1da4-41b7-aabd-8813b40046ff"
      },
      "execution_count": null,
      "outputs": [
        {
          "output_type": "stream",
          "name": "stdout",
          "text": [
            "Continuous ages [8, 15, 12, 23, 69, 87, 45, 52, 36, 48, 20, 18, 19, 35, 22, 74, 21, 63, 88, 14, 25, 42, 27, 58]\n",
            "Discretized ages ['[0;15)', '[15;30)', '[0;15)', '[15;30)', '[60;75)', '[75;90]', '[45;60)', '[45;60)', '[30;45)', '[45;60)', '[15;30)', '[15;30)', '[15;30)', '[30;45)', '[15;30)', '[60;75)', '[15;30)', '[60;75)', '[75;90]', '[0;15)', '[15;30)', '[30;45)', '[15;30)', '[45;60)'] \n"
          ]
        }
      ]
    },
    {
      "cell_type": "markdown",
      "source": [
        "\n",
        "\n",
        "---\n",
        "\n",
        "\n",
        "### **Exercise 2.2 - Frequency dictionary**\n"
      ],
      "metadata": {
        "id": "pp4ZmxcZLy7m"
      }
    },
    {
      "cell_type": "markdown",
      "source": [
        "\n",
        "From the previous exercise, use a for loop to store in a dictionary how many times each category is present in the discretised version of ages. \n",
        "Sort the dictionary with regard to the frequency in decreasing order.\n",
        "Which category has the maximum number of observation ? \n",
        "Which category has the minimum number of observation ? "
      ],
      "metadata": {
        "id": "6ggm_PjdMQ6O"
      }
    },
    {
      "cell_type": "markdown",
      "source": [
        "### **Correction exercise 2.2**"
      ],
      "metadata": {
        "id": "Bcd81MzvMSrG"
      }
    },
    {
      "cell_type": "code",
      "source": [
        "ages = [8, 15, 12, 23, 69, 87, 45, 52, 36, 48, 20, 18, 19, 35, 22, 74, 21, 63, 88, 14, 25, 42, 27, 58]\n",
        "\n",
        "# Then we initialize an empty list that will store the categorized value of the ages\n",
        "ages_cat = list()\n",
        "\n",
        "# We iterate over the values of the list ages and go down though different if statements\n",
        "for age in ages:\n",
        "  if age < 15:\n",
        "    ages_cat.append('[0;15)')\n",
        "  elif age >= 15 and age < 30:\n",
        "    ages_cat.append('[15;30)')\n",
        "  elif age >= 30 and age < 45:\n",
        "    ages_cat.append('[30;45)')\n",
        "  elif age >= 45 and age < 60:\n",
        "    ages_cat.append('[45;60)')\n",
        "  elif age >= 60 and age < 75:\n",
        "    ages_cat.append('[60;75)')\n",
        "  elif age >= 75 and age <= 90:\n",
        "    ages_cat.append('[75;90]')\n",
        "  else:\n",
        "    print('Age was in no category')\n",
        "\n",
        "print('Continuous ages %s'% ages)\n",
        "print('Discretized ages %s ' % ages_cat)\n",
        "\n",
        "# We create an empty dictionary that will store the values \n",
        "my_dict = dict()\n",
        "for k in ages_cat:\n",
        "  \n",
        "  # We check if the key already exist\n",
        "  if k in my_dict.keys():\n",
        "    my_dict[k] = my_dict[k]+1\n",
        "  else:\n",
        "    my_dict[k] = 1\n",
        "\n",
        "print('Frequency: ', my_dict)\n",
        "\n"
      ],
      "metadata": {
        "colab": {
          "base_uri": "https://localhost:8080/"
        },
        "id": "m_mp_Rn-MZz3",
        "outputId": "7f452874-cf16-4c93-cbd1-d863949b6c19"
      },
      "execution_count": null,
      "outputs": [
        {
          "output_type": "stream",
          "name": "stdout",
          "text": [
            "Continuous ages [8, 15, 12, 23, 69, 87, 45, 52, 36, 48, 20, 18, 19, 35, 22, 74, 21, 63, 88, 14, 25, 42, 27, 58]\n",
            "Discretized ages ['[0;15)', '[15;30)', '[0;15)', '[15;30)', '[60;75)', '[75;90]', '[45;60)', '[45;60)', '[30;45)', '[45;60)', '[15;30)', '[15;30)', '[15;30)', '[30;45)', '[15;30)', '[60;75)', '[15;30)', '[60;75)', '[75;90]', '[0;15)', '[15;30)', '[30;45)', '[15;30)', '[45;60)'] \n",
            "Frequency:  {'[0;15)': 3, '[15;30)': 9, '[60;75)': 3, '[75;90]': 2, '[45;60)': 4, '[30;45)': 3}\n"
          ]
        }
      ]
    },
    {
      "cell_type": "code",
      "source": [
        "# Sorted keys by decreasing ordere\n",
        "print('The sorted category by frequency order :', sorted(my_dict, key = lambda x: my_dict.get(x), reverse = True))"
      ],
      "metadata": {
        "colab": {
          "base_uri": "https://localhost:8080/"
        },
        "id": "itjekiMKN5a4",
        "outputId": "63673bfb-2a05-4fba-9af9-b0e907f28328"
      },
      "execution_count": null,
      "outputs": [
        {
          "output_type": "stream",
          "name": "stdout",
          "text": [
            "The sorted category by frequency order : ['[15;30)', '[45;60)', '[0;15)', '[60;75)', '[30;45)', '[75;90]']\n"
          ]
        }
      ]
    },
    {
      "cell_type": "code",
      "source": [
        "# Which category has the maximum number of observations ?\n",
        "print('The category with the maximum number of observations is %s with %d observations' % (max(my_dict, key = my_dict.get), my_dict.get(max(my_dict, key = my_dict.get))))\n",
        "\n",
        "# Which category has the minimum number of observations ? \n",
        "print('The categroy with the minimum number of observations is %s with %d observations' % (min(my_dict, key = my_dict.get), my_dict.get(min(my_dict, key = my_dict.get))))"
      ],
      "metadata": {
        "colab": {
          "base_uri": "https://localhost:8080/"
        },
        "id": "1CWq_ju4PSyr",
        "outputId": "7ba0fca7-8905-4e98-83a9-c9404dd7e1ba"
      },
      "execution_count": null,
      "outputs": [
        {
          "output_type": "stream",
          "name": "stdout",
          "text": [
            "The category with the maximum number of observations is [15;30) with 9 observations\n",
            "The categroy with the minimum number of observations is [75;90] with 2 observations\n"
          ]
        }
      ]
    },
    {
      "cell_type": "markdown",
      "source": [
        "---\n",
        "### **Exercise 2.3 - Estimation of $\\pi $**"
      ],
      "metadata": {
        "id": "PUjFBWLTMWO2"
      }
    },
    {
      "cell_type": "markdown",
      "source": [
        "To approximate the value of $\\pi$ many methods are available. One of them was found by the indian mathematician Madhava de Sangamagrama around 1400. He used an infinite serie to compute an approximation of $\\pi$. The formula that he used is the following:\n",
        "\n",
        "$\n",
        "\\tilde{\\pi}_{Madhava} = \\sqrt{12}\\sum_{k = 0}^{\\infty}{\\frac{(-1)^k}{(3k+1)3^k}}\n",
        "$\n",
        "\n",
        "Use the above formula to compute an approximation of $\\pi$ with a while loop. The desired precision is at least 15 decimals of $\\pi$.\n",
        "\n",
        "*Hint*: You can use the following command to have a reference value of $\\pi$\n",
        "\n",
        "\n",
        "\n",
        "\n",
        "```\n",
        "import math\n",
        "math.pi\n",
        "```\n",
        "\n",
        "\n",
        "\n",
        "\n"
      ],
      "metadata": {
        "id": "Y02dL_3rX4HT"
      }
    },
    {
      "cell_type": "markdown",
      "source": [
        "### **Correction exercise 2.3**"
      ],
      "metadata": {
        "id": "mQux83bZswLx"
      }
    },
    {
      "cell_type": "code",
      "source": [
        "# With a for loop nested \n",
        "\n",
        "import math\n",
        "\n",
        "pi_madhava = 0\n",
        "\n",
        "k = 1\n",
        "\n",
        "while(abs(math.pi - pi_madhava) > 1e-15):\n",
        "  res = 0\n",
        "  for i in range(0, k):\n",
        "    res += ((-1)**i)/((2*i+1)*(3**i))\n",
        "  pi_madhava = ((12)**(1/2))*res\n",
        "  k += 1\n",
        "\n",
        "print('Approximation:', pi_madhava)\n",
        "print('Real value:', math.pi)\n",
        "print('Difference:', abs(math.pi - pi_madhava))\n",
        "print('Iteration =', k-1)"
      ],
      "metadata": {
        "colab": {
          "base_uri": "https://localhost:8080/"
        },
        "id": "7ngy9rv6cGjo",
        "outputId": "46cd1554-5757-4872-c074-bc7f3eff94dc"
      },
      "execution_count": null,
      "outputs": [
        {
          "output_type": "stream",
          "name": "stdout",
          "text": [
            "Approximation: 3.141592653589794\n",
            "Real value: 3.141592653589793\n",
            "Difference: 8.881784197001252e-16\n",
            "Iteration = 29\n"
          ]
        }
      ]
    },
    {
      "cell_type": "code",
      "source": [
        "pi_madhava = 0\n",
        "k = 0\n",
        "\n",
        "while(abs(math.pi - pi_madhava) > 1e-15):\n",
        "  if k == 0:\n",
        "    frac = 1\n",
        "  else:\n",
        "    frac += ((-1)**k)/((2*k+1)*(3**k))\n",
        "  pi_madhava = (12**(1/2))*frac\n",
        "  k += 1\n",
        "\n",
        "print('Approximation:', pi_madhava)\n",
        "print('Real value:', math.pi)\n",
        "print('Difference:', abs(math.pi - pi_madhava))\n",
        "print('Iteration =', k)"
      ],
      "metadata": {
        "colab": {
          "base_uri": "https://localhost:8080/"
        },
        "id": "Mg2n886MgQMa",
        "outputId": "51e39945-974f-4ac7-f8cf-8d751e184b05"
      },
      "execution_count": null,
      "outputs": [
        {
          "output_type": "stream",
          "name": "stdout",
          "text": [
            "Approximation: 3.141592653589794\n",
            "Real value: 3.141592653589793\n",
            "Difference: 8.881784197001252e-16\n",
            "Iteration = 29\n"
          ]
        }
      ]
    },
    {
      "cell_type": "markdown",
      "source": [
        "# **3. Functions**\n"
      ],
      "metadata": {
        "id": "Frbka7AclFSJ"
      }
    },
    {
      "cell_type": "markdown",
      "source": [
        "## **Exercise 3.1**\n",
        "\n"
      ],
      "metadata": {
        "id": "ZetG3RqfuQo5"
      }
    },
    {
      "cell_type": "markdown",
      "source": [
        "Write a Python function to convert temperature units from Celius units (°C) to Fahrenheit (°F) or from Celius units to Fahrenheit. For this exercise you have to write a single function that is able to do both conversion. "
      ],
      "metadata": {
        "id": "-6KGX-3hzZ8E"
      }
    },
    {
      "cell_type": "markdown",
      "source": [
        "## **Correction exercise 3.1**\n"
      ],
      "metadata": {
        "id": "XrDx4sHJ1AGs"
      }
    },
    {
      "cell_type": "code",
      "source": [
        "def convert(temperature, desired_unit= 'C'):\n",
        "  if desired_unit == 'C':\n",
        "    res = (5/9)*(temperature - 32.0)\n",
        "  elif desired_unit == 'F':\n",
        "    res = (9/5)*temperature + 32.0\n",
        "  else:\n",
        "    print('The desired unit is not implemented')\n",
        "    return\n",
        "  return res\n",
        "\n",
        "convert(40, 'F')"
      ],
      "metadata": {
        "colab": {
          "base_uri": "https://localhost:8080/"
        },
        "id": "Bz4qAC9ryHQr",
        "outputId": "5ecbe641-8144-4a38-f955-e523b6cb15e8"
      },
      "execution_count": null,
      "outputs": [
        {
          "output_type": "execute_result",
          "data": {
            "text/plain": [
              "104.0"
            ]
          },
          "metadata": {},
          "execution_count": 110
        }
      ]
    },
    {
      "cell_type": "markdown",
      "source": [
        "\n",
        "\n",
        "---\n",
        "\n",
        "## **Exercise 3.2 - Utility function**\n"
      ],
      "metadata": {
        "id": "wMUosG9hJwEZ"
      }
    },
    {
      "cell_type": "markdown",
      "source": [
        "Write a Python function that take a string as an argument and returns the list of all unique elements of the string. \n",
        "\n",
        "\n",
        "\n",
        "```\n",
        "my_string = 'Nullam tempus scelerisque purus, sed mattis elit condimentum nec. Cras vel elit sed mi placerat pharetra eget vel odio. Pellentesque habitant morbi tristique senectus et netus et malesuada fames ac turpis egestas. Lorem ipsum dolor sit amet, consectetur adipiscing elit. Integer ultricies malesuada quam. Cras vel elit sed mi placerat pharetra eget vel odio. Duis ac nulla varius diam ultrices rutrum. Cras erat dui, finibus vel lectus ac, pharetra dictum odio. Pellentesque habitant morbi tristique senectus et netus et malesuada fames ac turpis egestas. Nullam tempus scelerisque purus, sed mattis elit condimentum nec. Duis ac nulla varius diam ultrices rutrum. Etiam risus sapien, auctor eu volutpat sit amet, porta in nunc. Quisque vitae varius ex, eu volutpat orci. Lorem ipsum dolor sit amet, consectetur adipiscing elit. Quisque vitae varius ex, eu volutpat orci. Proin ipsum purus, laoreet quis dictum a, laoreet sed ligula. Pellentesque habitant morbi tristique senectus et netus et malesuada fames ac turpis egestas. Quisque vitae varius ex, eu volutpat orci.'\n",
        "\n",
        "```\n",
        "\n"
      ],
      "metadata": {
        "id": "RrkaOZWuJ09i"
      }
    },
    {
      "cell_type": "markdown",
      "source": [
        "## **Correction exercise 3.2**\n"
      ],
      "metadata": {
        "id": "kJlQoTNiJ9YR"
      }
    },
    {
      "cell_type": "code",
      "source": [
        "# For this exercise we have a few solutions\n",
        "\n",
        "# First\n",
        "# Create a dictionary from the string with each element of the string being a key to the dictionary. \n",
        "# Each time we encounter a duplicate it will not create a new key and then returns the list of keys.\n",
        "\n",
        "def unique_dictionary(string_argument):\n",
        "  my_dict = dict()\n",
        "  for k in string_argument:\n",
        "    my_dict[k] = 1\n",
        "  return list(my_dict.keys())\n",
        "\n",
        "\n",
        " \n",
        "unique_dictionary(my_string)"
      ],
      "metadata": {
        "colab": {
          "base_uri": "https://localhost:8080/"
        },
        "id": "gfP3eR_CJ8lJ",
        "outputId": "8b22d81d-309e-450b-bed5-e6e7050a0ec8"
      },
      "execution_count": null,
      "outputs": [
        {
          "output_type": "execute_result",
          "data": {
            "text/plain": [
              "list"
            ]
          },
          "metadata": {},
          "execution_count": 6
        }
      ]
    },
    {
      "cell_type": "code",
      "source": [
        "# Second \n",
        "# Use the set datatype in Python. It is a immutable list that do not accept duplicates\n",
        "\n",
        "def unique_set(string_argument):\n",
        "  return list(set(string_argument))\n",
        "\n",
        "unique_set(my_string)"
      ],
      "metadata": {
        "colab": {
          "base_uri": "https://localhost:8080/"
        },
        "id": "jyhJcHsFLrE7",
        "outputId": "01c09703-1f31-4361-c6bd-2ab4650f1b55"
      },
      "execution_count": null,
      "outputs": [
        {
          "output_type": "execute_result",
          "data": {
            "text/plain": [
              "[',',\n",
              " 'q',\n",
              " 'v',\n",
              " 'l',\n",
              " 'E',\n",
              " 's',\n",
              " 'o',\n",
              " 'p',\n",
              " 'c',\n",
              " 'I',\n",
              " 'g',\n",
              " 'd',\n",
              " 'e',\n",
              " ' ',\n",
              " '.',\n",
              " 'D',\n",
              " 'x',\n",
              " 'f',\n",
              " 'r',\n",
              " 'N',\n",
              " 't',\n",
              " 'C',\n",
              " 'i',\n",
              " 'P',\n",
              " 'm',\n",
              " 'b',\n",
              " 'u',\n",
              " 'h',\n",
              " 'n',\n",
              " 'L',\n",
              " 'a',\n",
              " 'Q']"
            ]
          },
          "metadata": {},
          "execution_count": 9
        }
      ]
    },
    {
      "cell_type": "code",
      "source": [
        "# Third \n",
        "\n",
        "def unique_ifelse(string_argument):\n",
        "  list_of_unique_element = list()\n",
        "  for k in string_argument:\n",
        "    if k not in list_of_unique_element:\n",
        "      list_of_unique_element.append(k)\n",
        "    else:\n",
        "      pass\n",
        "  return list_of_unique_element\n",
        "\n",
        "unique_ifelse(my_string)"
      ],
      "metadata": {
        "colab": {
          "base_uri": "https://localhost:8080/"
        },
        "id": "XfQOZeOfMNFj",
        "outputId": "c3ed552b-e60c-4dcc-e363-ed034f62ed3b"
      },
      "execution_count": null,
      "outputs": [
        {
          "output_type": "execute_result",
          "data": {
            "text/plain": [
              "['N',\n",
              " 'u',\n",
              " 'l',\n",
              " 'a',\n",
              " 'm',\n",
              " ' ',\n",
              " 't',\n",
              " 'e',\n",
              " 'p',\n",
              " 's',\n",
              " 'c',\n",
              " 'r',\n",
              " 'i',\n",
              " 'q',\n",
              " ',',\n",
              " 'd',\n",
              " 'o',\n",
              " 'n',\n",
              " '.',\n",
              " 'C',\n",
              " 'v',\n",
              " 'h',\n",
              " 'g',\n",
              " 'P',\n",
              " 'b',\n",
              " 'f',\n",
              " 'L',\n",
              " 'I',\n",
              " 'D',\n",
              " 'E',\n",
              " 'Q',\n",
              " 'x']"
            ]
          },
          "metadata": {},
          "execution_count": 13
        }
      ]
    },
    {
      "cell_type": "markdown",
      "source": [
        "# **4. Bonus Comprehension**"
      ],
      "metadata": {
        "id": "h2A_r7b3NAMk"
      }
    },
    {
      "cell_type": "markdown",
      "source": [
        "There's a way to create list or dictionary with a for loops in a single lines. It is by embedding the for loops inside brackets for instance (to create a list).\n",
        "For instance to create a list of elements from 0 to 10"
      ],
      "metadata": {
        "id": "ry-zu4xnNNfc"
      }
    },
    {
      "cell_type": "code",
      "source": [
        "my_list = [i for i in range(0, 11)]\n",
        "my_list"
      ],
      "metadata": {
        "colab": {
          "base_uri": "https://localhost:8080/"
        },
        "id": "PjacIElmNwOE",
        "outputId": "95d6a52d-60a5-46cb-923b-0c5a5ba63a7a"
      },
      "execution_count": null,
      "outputs": [
        {
          "output_type": "execute_result",
          "data": {
            "text/plain": [
              "[0, 1, 2, 3, 4, 5, 6, 7, 8, 9, 10]"
            ]
          },
          "metadata": {},
          "execution_count": 2
        }
      ]
    },
    {
      "cell_type": "markdown",
      "source": [
        "You can have more complexe comprehension. For instance, you can return the result of some operation into the list."
      ],
      "metadata": {
        "id": "qU8fX_IDN6Eu"
      }
    },
    {
      "cell_type": "code",
      "source": [
        "my_list = [i**2 for i in range(0, 11)]\n",
        "my_list"
      ],
      "metadata": {
        "colab": {
          "base_uri": "https://localhost:8080/"
        },
        "id": "cHbuT2FROKP3",
        "outputId": "bb6adbc0-1745-4c35-afcc-8435b08bcc3f"
      },
      "execution_count": null,
      "outputs": [
        {
          "output_type": "execute_result",
          "data": {
            "text/plain": [
              "[0, 1, 4, 9, 16, 25, 36, 49, 64, 81, 100]"
            ]
          },
          "metadata": {},
          "execution_count": 3
        }
      ]
    },
    {
      "cell_type": "markdown",
      "source": [
        "Or even have some conditions."
      ],
      "metadata": {
        "id": "UMaKzgKVOPcF"
      }
    },
    {
      "cell_type": "code",
      "source": [
        "my_list = [i for i in range(0, 11) if i < 5]\n",
        "my_list"
      ],
      "metadata": {
        "colab": {
          "base_uri": "https://localhost:8080/"
        },
        "id": "tZxLKIwcOTUl",
        "outputId": "ae97f056-8feb-4275-e7c7-2ab9be6e25a7"
      },
      "execution_count": null,
      "outputs": [
        {
          "output_type": "execute_result",
          "data": {
            "text/plain": [
              "[0, 1, 2, 3, 4]"
            ]
          },
          "metadata": {},
          "execution_count": 5
        }
      ]
    },
    {
      "cell_type": "markdown",
      "source": [
        "## **Exercise 4.1 - List comprehension**"
      ],
      "metadata": {
        "id": "3BuCQ6DjNgHc"
      }
    },
    {
      "cell_type": "markdown",
      "source": [
        "Given the following string, write a single line of code that returns a list with the length of every word in the string. \n",
        "*Hint*: The string method `split()` can be used in this exercise.\n",
        "\n",
        "**Sentence:** \"All animals are equal but some animals are more equal than others.\" (Quotes from Animal Farm - ORWELL, GEORGE).\n",
        "\n"
      ],
      "metadata": {
        "id": "1-_cnNAyPZyP"
      }
    },
    {
      "cell_type": "markdown",
      "source": [
        "## **Correction exercise 4.1**\n"
      ],
      "metadata": {
        "id": "iiBO2L_mQ0NF"
      }
    },
    {
      "cell_type": "code",
      "source": [
        "my_string = \"All animals are equal but some animals are more equal than others.\"\n",
        "\n",
        "result = [len(word) for word in my_string.split()]\n",
        "print(result)"
      ],
      "metadata": {
        "colab": {
          "base_uri": "https://localhost:8080/"
        },
        "outputId": "06fecc73-7c9f-4062-f826-9facee645165",
        "id": "pke5aNatQ0NG"
      },
      "execution_count": null,
      "outputs": [
        {
          "output_type": "stream",
          "name": "stdout",
          "text": [
            "[3, 7, 3, 5, 3, 4, 7, 3, 4, 5, 4, 7]\n"
          ]
        }
      ]
    }
  ]
}